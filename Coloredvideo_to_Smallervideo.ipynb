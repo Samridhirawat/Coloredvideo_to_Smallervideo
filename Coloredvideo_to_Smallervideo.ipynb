{
  "nbformat": 4,
  "nbformat_minor": 0,
  "metadata": {
    "colab": {
      "provenance": [],
      "include_colab_link": true
    },
    "kernelspec": {
      "name": "python3",
      "display_name": "Python 3"
    },
    "language_info": {
      "name": "python"
    }
  },
  "cells": [
    {
      "cell_type": "markdown",
      "metadata": {
        "id": "view-in-github",
        "colab_type": "text"
      },
      "source": [
        "<a href=\"https://colab.research.google.com/github/Samridhirawat/Coloredvideo_to_Smallervideo/blob/main/Coloredvideo_to_Smallervideo.ipynb\" target=\"_parent\"><img src=\"https://colab.research.google.com/assets/colab-badge.svg\" alt=\"Open In Colab\"/></a>"
      ]
    },
    {
      "cell_type": "code",
      "execution_count": 1,
      "metadata": {
        "id": "gG3STyCpfiyc"
      },
      "outputs": [],
      "source": [
        "import cv2"
      ]
    },
    {
      "cell_type": "code",
      "source": [
        "import matplotlib.pyplot as plt\n",
        "# Open the video\n",
        "cap = cv2.VideoCapture('video.mp4')\n",
        "\n",
        "# Get the video properties\n",
        "fps = cap.get(cv2.CAP_PROP_FPS)\n",
        "width = int(cap.get(cv2.CAP_PROP_FRAME_WIDTH))#extract the width and height of the video\n",
        "height = int(cap.get(cv2.CAP_PROP_FRAME_HEIGHT))\n",
        "\n",
        "# Calculate the new dimensions (50% smaller)\n",
        "new_width = int(width * 0.5)\n",
        "new_height = int(height * 0.5)\n",
        "\n",
        "\n",
        "# Create a VideoWriter object for saving the grayscale video\n",
        "fourcc = cv2.VideoWriter_fourcc(*'mp4v')\n",
        "out = cv2.VideoWriter('smallerscale_video.mp4', fourcc, fps, (width, height), isColor=False)\n",
        "\n",
        "# Loop through the frames\n",
        "while True:\n",
        "    # Read a frame from the video\n",
        "    ret, frame = cap.read()\n",
        "\n",
        "    # If no frames left, break the loop\n",
        "    if not ret:\n",
        "        break\n",
        "\n",
        "\n",
        " # Resize the frame\n",
        "    resized_frame = cv2.resize(frame, (new_width, new_height), interpolation=cv2.INTER_AREA)\n",
        "\n",
        "    # Write the grayscale frame to the output video\n",
        "    out.write(resized_frame)\n",
        "\n",
        "    # Display the grayscale frame (optional)\n",
        "    #cv2.imshow('Grayscale_Video', gray)\n",
        "    if cv2.waitKey(1) & 0xFF == ord('q'):\n",
        "        break\n",
        "\n",
        "# Release the video capture and writer objects\n",
        "cap.release()\n",
        "out.release()\n",
        "\n"
      ],
      "metadata": {
        "id": "47qTd-zkfwCV"
      },
      "execution_count": 2,
      "outputs": []
    }
  ]
}